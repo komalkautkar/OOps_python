{
 "cells": [
  {
   "cell_type": "code",
   "execution_count": 1,
   "id": "968be2a3",
   "metadata": {},
   "outputs": [
    {
     "name": "stdout",
     "output_type": "stream",
     "text": [
      "hello,my name is Alice and I'm 30 years old.\n",
      "hello,my name is Bob and I'm 25 years old.\n"
     ]
    }
   ],
   "source": [
    "class Person:\n",
    "    def __init__(self,name,age):\n",
    "        self.name=name\n",
    "        self.age=age\n",
    "   \n",
    "    def say_hello(self):\n",
    "        print(f\"hello,my name is {self.name} and I'm {self.age} years old.\")\n",
    "     \n",
    "person1=Person(\"Alice\",30)\n",
    "person2=Person(\"Bob\",25)\n",
    "\n",
    "person1.say_hello()\n",
    "person2.say_hello()"
   ]
  },
  {
   "cell_type": "code",
   "execution_count": 2,
   "id": "94328a5e",
   "metadata": {},
   "outputs": [
    {
     "name": "stdout",
     "output_type": "stream",
     "text": [
      "Name: Alice,Age:30,Designation:CA\n",
      "Name: Bob,Age:25,Designation:doctor\n",
      "Name: Komal,Age:29,Designation:IT\n"
     ]
    }
   ],
   "source": [
    "class Employee:\n",
    "    def __init__(self,name,age,designation):\n",
    "        self.name=name\n",
    "        self.age=age\n",
    "        self.designation=designation\n",
    "   \n",
    "    def employee_details(self):\n",
    "        print(f\"Name: {self.name},Age:{self.age},Designation:{self.designation}\")\n",
    "     \n",
    "employee1=Employee(\"Alice\",30,\"CA\")\n",
    "employee2=Employee(\"Bob\",25,\"doctor\")\n",
    "employee3=Employee(\"Komal\",29,\"IT\")\n",
    "\n",
    "\n",
    "employee1.employee_details()\n",
    "employee2.employee_details()\n",
    "employee3.employee_details()"
   ]
  },
  {
   "cell_type": "code",
   "execution_count": 3,
   "id": "10bb2be2",
   "metadata": {},
   "outputs": [
    {
     "name": "stdout",
     "output_type": "stream",
     "text": [
      "4\n"
     ]
    }
   ],
   "source": [
    "class Person:\n",
    "    count=0                   #This is a class variable\n",
    "    def __init__(self,name,age,designation,address):\n",
    "        self.name=name       #This is an instance variable\n",
    "        self.age=age\n",
    "        self.designation=designation\n",
    "        self.address=address\n",
    "        Person.count +=1      #Accessing the class variable using the name of the class                        \n",
    "\n",
    "person1=Person(\"Ayan\",30,\"IT\",\"mumbai\")        \n",
    "person1=Person(\"komal\",29,\"analyst\",\"mumbai\")        \n",
    "person1=Person(\"jija\",24,\"doctor\",\"pune\")  \n",
    "person1=Person(\"ram\",30,\"teacher\",\"thane\")   \n",
    "\n",
    "print(Person.count)\n",
    "        "
   ]
  },
  {
   "cell_type": "code",
   "execution_count": 14,
   "id": "2e116fd0",
   "metadata": {},
   "outputs": [
    {
     "name": "stdout",
     "output_type": "stream",
     "text": [
      "Make:Toyato,Model:Camry,Year:2020\n",
      "Make:Honda,Model:Civic,Year:2018\n",
      "Total Vehicle:2\n"
     ]
    }
   ],
   "source": [
    "class Vehicle:\n",
    "     count=0\n",
    "     def __init__(self,Make,Model,Year):\n",
    "         self.Make=Make\n",
    "         self.Model=Model\n",
    "         self.Year=Year\n",
    "         Vehicle.count +=1\n",
    "     \n",
    "     def Vehicle_details(self):  \n",
    "         print(f\"Make:{self.Make},Model:{self.Model},Year:{self.Year}\")\n",
    "        \n",
    "veh1=Vehicle(\"Toyato\",\"Camry\",2020)\n",
    "veh2=Vehicle(\"Honda\",\"Civic\",2018)\n",
    "\n",
    "veh1.Vehicle_details()\n",
    "veh2.Vehicle_details()\n",
    "\n",
    "\n",
    "print(f\"Total Vehicle:{Vehicle.count}\")\n",
    "        "
   ]
  },
  {
   "cell_type": "code",
   "execution_count": 33,
   "id": "b39034e0",
   "metadata": {},
   "outputs": [],
   "source": [
    "class Shape:\n",
    "    def __init__(self,color):\n",
    "        self.color=color\n",
    "        \n",
    "    def calculate(self):\n",
    "        print(f\"shape of color:{self.color}\")\n",
    "        \n"
   ]
  },
  {
   "cell_type": "code",
   "execution_count": 38,
   "id": "a4808bf0",
   "metadata": {},
   "outputs": [],
   "source": [
    "class Rectangle(Shape):\n",
    "    \n",
    "    def __init__(self,color,length,breadth):\n",
    "        ##super().__init__(color)\n",
    "        self.length=length\n",
    "        self.breadth=breadth\n",
    "        \n",
    "        \n",
    "    def calculate(self):\n",
    "        print(f\"Type:Rectangle,length:{self.length},breadth:{self.breadth},Area:{self.length*self.breadth}\")\n",
    "\n",
    "\n",
    "        "
   ]
  },
  {
   "cell_type": "code",
   "execution_count": 39,
   "id": "7acfd5e3",
   "metadata": {},
   "outputs": [],
   "source": [
    "class Circle(Shape):\n",
    "    def __init__(self,color,radius):\n",
    "      ##super().__init__(color)  \n",
    "      self.radius=radius\n",
    "    \n",
    "    def calculate(self):\n",
    "       print(f\"Type:Circle,color:{self.color},radius:{3.14*self.radius**2}\")"
   ]
  },
  {
   "cell_type": "code",
   "execution_count": 42,
   "id": "55a0e134",
   "metadata": {},
   "outputs": [
    {
     "name": "stdout",
     "output_type": "stream",
     "text": [
      "Type:Rectangle,length:4,breadth:6,Area:24\n",
      "Type:Circle,color:red,radius:153.86\n"
     ]
    }
   ],
   "source": [
    "### Creating instances of Rectangle and circle\n",
    "rectangle=Rectangle(\"blue\",4,6)\n",
    "circle=Circle(\"red\",7)\n",
    "\n",
    "### calling calculate() method for Rectangle and Circle\n",
    "rectangle.calculate()\n",
    "circle.calculate()"
   ]
  },
  {
   "cell_type": "code",
   "execution_count": 43,
   "id": "eff7d51a",
   "metadata": {},
   "outputs": [
    {
     "name": "stdout",
     "output_type": "stream",
     "text": [
      "Animal speaks\n",
      "dog barks\n",
      "cat meows\n"
     ]
    }
   ],
   "source": [
    "class Animal:\n",
    "    def speak(self):\n",
    "        print(\"Animal speaks\")\n",
    "\n",
    "class Dog(Animal):\n",
    "    def speak(self):\n",
    "        print(\"dog barks\")\n",
    "        \n",
    "class Cat(Animal):\n",
    "    def speak(self):\n",
    "        print(\"cat meows\")\n",
    "        \n",
    "animal=Animal()\n",
    "dog=Dog()\n",
    "cat=Cat()\n",
    "\n",
    "animal.speak()\n",
    "dog.speak()\n",
    "cat.speak()\n",
    "        "
   ]
  },
  {
   "cell_type": "code",
   "execution_count": null,
   "id": "21b6d07e",
   "metadata": {},
   "outputs": [],
   "source": []
  }
 ],
 "metadata": {
  "kernelspec": {
   "display_name": "Python 3 (ipykernel)",
   "language": "python",
   "name": "python3"
  },
  "language_info": {
   "codemirror_mode": {
    "name": "ipython",
    "version": 3
   },
   "file_extension": ".py",
   "mimetype": "text/x-python",
   "name": "python",
   "nbconvert_exporter": "python",
   "pygments_lexer": "ipython3",
   "version": "3.11.5"
  }
 },
 "nbformat": 4,
 "nbformat_minor": 5
}
